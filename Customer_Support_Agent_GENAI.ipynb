{
  "cells": [
    {
      "cell_type": "markdown",
      "metadata": {
        "id": "6DBcQPHRdGF_"
      },
      "source": [
        "## Key Components\n",
        "1. **State Management**: Using TypedDict to define and manage the state of each customer interaction.\n",
        "2. **Query Categorization**: Classifying customer queries into Technical, Billing, or General categories.\n",
        "3. **Sentiment Analysis**: Determining the emotional tone of customer queries.\n",
        "4. **Response Generation**: Creating appropriate responses based on the query category and sentiment.\n",
        "5. **Escalation Mechanism**: Automatically escalating queries with negative sentiment to human agents.\n",
        "6. **Workflow Graph**: Utilizing LangGraph to create a flexible and extensible workflow.\n",
        "\n",
        "## Method Details\n",
        "1. **Initialization**: Set up the environment and import necessary libraries.\n",
        "2. **State Definition**: Create a structure to hold query information, category, sentiment, and response.\n",
        "3. **Node Functions**: Implement separate functions for categorization, sentiment analysis, and response generation.\n",
        "4. **Graph Construction**: Use StateGraph to define the workflow, adding nodes and edges to represent the support process.\n",
        "5. **Conditional Routing**: Implement logic to route queries based on their category and sentiment.\n",
        "6. **Workflow Compilation**: Compile the graph into an executable application.\n",
        "7. **Execution**: Process customer queries through the workflow and retrieve results."
      ]
    },
    {
      "cell_type": "code",
      "execution_count": 1,
      "metadata": {
        "colab": {
          "base_uri": "https://localhost:8080/"
        },
        "id": "L-OEzxd1dGt_",
        "outputId": "c353f13d-a039-48a2-f154-ef84be7f21f2"
      },
      "outputs": [
        {
          "name": "stdout",
          "output_type": "stream",
          "text": [
            "Requirement already satisfied: langchain in c:\\users\\priyansh singh\\appdata\\local\\programs\\python\\python312\\lib\\site-packages (0.3.14)\n",
            "Requirement already satisfied: langchain_core in c:\\users\\priyansh singh\\appdata\\local\\programs\\python\\python312\\lib\\site-packages (0.3.55)\n",
            "Requirement already satisfied: langchain_groq in c:\\users\\priyansh singh\\appdata\\local\\programs\\python\\python312\\lib\\site-packages (0.3.2)\n",
            "Requirement already satisfied: langchain_community in c:\\users\\priyansh singh\\appdata\\local\\programs\\python\\python312\\lib\\site-packages (0.3.14)\n",
            "Requirement already satisfied: langgraph in c:\\users\\priyansh singh\\appdata\\local\\programs\\python\\python312\\lib\\site-packages (0.3.33)\n",
            "Requirement already satisfied: PyYAML>=5.3 in c:\\users\\priyansh singh\\appdata\\local\\programs\\python\\python312\\lib\\site-packages (from langchain) (6.0.1)\n",
            "Requirement already satisfied: SQLAlchemy<3,>=1.4 in c:\\users\\priyansh singh\\appdata\\local\\programs\\python\\python312\\lib\\site-packages (from langchain) (2.0.37)\n",
            "Requirement already satisfied: aiohttp<4.0.0,>=3.8.3 in c:\\users\\priyansh singh\\appdata\\local\\programs\\python\\python312\\lib\\site-packages (from langchain) (3.11.11)\n",
            "Requirement already satisfied: langchain-text-splitters<0.4.0,>=0.3.3 in c:\\users\\priyansh singh\\appdata\\local\\programs\\python\\python312\\lib\\site-packages (from langchain) (0.3.5)\n",
            "Requirement already satisfied: langsmith<0.3,>=0.1.17 in c:\\users\\priyansh singh\\appdata\\local\\programs\\python\\python312\\lib\\site-packages (from langchain) (0.2.11)\n",
            "Requirement already satisfied: numpy<3,>=1.26.2 in c:\\users\\priyansh singh\\appdata\\local\\programs\\python\\python312\\lib\\site-packages (from langchain) (2.0.0)\n",
            "Requirement already satisfied: pydantic<3.0.0,>=2.7.4 in c:\\users\\priyansh singh\\appdata\\local\\programs\\python\\python312\\lib\\site-packages (from langchain) (2.10.5)\n",
            "Requirement already satisfied: requests<3,>=2 in c:\\users\\priyansh singh\\appdata\\local\\programs\\python\\python312\\lib\\site-packages (from langchain) (2.32.3)\n",
            "Requirement already satisfied: tenacity!=8.4.0,<10,>=8.1.0 in c:\\users\\priyansh singh\\appdata\\local\\programs\\python\\python312\\lib\\site-packages (from langchain) (9.0.0)\n",
            "Requirement already satisfied: jsonpatch<2.0,>=1.33 in c:\\users\\priyansh singh\\appdata\\local\\programs\\python\\python312\\lib\\site-packages (from langchain_core) (1.33)\n",
            "Requirement already satisfied: packaging<25,>=23.2 in c:\\users\\priyansh singh\\appdata\\local\\programs\\python\\python312\\lib\\site-packages (from langchain_core) (24.2)\n",
            "Requirement already satisfied: typing-extensions>=4.7 in c:\\users\\priyansh singh\\appdata\\local\\programs\\python\\python312\\lib\\site-packages (from langchain_core) (4.12.2)\n",
            "Requirement already satisfied: groq<1,>=0.4.1 in c:\\users\\priyansh singh\\appdata\\local\\programs\\python\\python312\\lib\\site-packages (from langchain_groq) (0.15.0)\n",
            "Requirement already satisfied: dataclasses-json<0.7,>=0.5.7 in c:\\users\\priyansh singh\\appdata\\local\\programs\\python\\python312\\lib\\site-packages (from langchain_community) (0.6.7)\n",
            "Requirement already satisfied: httpx-sse<0.5.0,>=0.4.0 in c:\\users\\priyansh singh\\appdata\\local\\programs\\python\\python312\\lib\\site-packages (from langchain_community) (0.4.0)\n",
            "Requirement already satisfied: pydantic-settings<3.0.0,>=2.4.0 in c:\\users\\priyansh singh\\appdata\\local\\programs\\python\\python312\\lib\\site-packages (from langchain_community) (2.7.1)\n",
            "Requirement already satisfied: langgraph-checkpoint<3.0.0,>=2.0.10 in c:\\users\\priyansh singh\\appdata\\local\\programs\\python\\python312\\lib\\site-packages (from langgraph) (2.0.24)\n",
            "Requirement already satisfied: langgraph-prebuilt<0.2,>=0.1.8 in c:\\users\\priyansh singh\\appdata\\local\\programs\\python\\python312\\lib\\site-packages (from langgraph) (0.1.8)\n",
            "Requirement already satisfied: langgraph-sdk<0.2.0,>=0.1.42 in c:\\users\\priyansh singh\\appdata\\local\\programs\\python\\python312\\lib\\site-packages (from langgraph) (0.1.63)\n",
            "Requirement already satisfied: xxhash<4.0.0,>=3.5.0 in c:\\users\\priyansh singh\\appdata\\local\\programs\\python\\python312\\lib\\site-packages (from langgraph) (3.5.0)\n",
            "Requirement already satisfied: aiohappyeyeballs>=2.3.0 in c:\\users\\priyansh singh\\appdata\\local\\programs\\python\\python312\\lib\\site-packages (from aiohttp<4.0.0,>=3.8.3->langchain) (2.4.4)\n",
            "Requirement already satisfied: aiosignal>=1.1.2 in c:\\users\\priyansh singh\\appdata\\local\\programs\\python\\python312\\lib\\site-packages (from aiohttp<4.0.0,>=3.8.3->langchain) (1.3.2)\n",
            "Requirement already satisfied: attrs>=17.3.0 in c:\\users\\priyansh singh\\appdata\\local\\programs\\python\\python312\\lib\\site-packages (from aiohttp<4.0.0,>=3.8.3->langchain) (23.2.0)\n",
            "Requirement already satisfied: frozenlist>=1.1.1 in c:\\users\\priyansh singh\\appdata\\local\\programs\\python\\python312\\lib\\site-packages (from aiohttp<4.0.0,>=3.8.3->langchain) (1.5.0)\n",
            "Requirement already satisfied: multidict<7.0,>=4.5 in c:\\users\\priyansh singh\\appdata\\local\\programs\\python\\python312\\lib\\site-packages (from aiohttp<4.0.0,>=3.8.3->langchain) (6.1.0)\n",
            "Requirement already satisfied: propcache>=0.2.0 in c:\\users\\priyansh singh\\appdata\\local\\programs\\python\\python312\\lib\\site-packages (from aiohttp<4.0.0,>=3.8.3->langchain) (0.2.1)\n",
            "Requirement already satisfied: yarl<2.0,>=1.17.0 in c:\\users\\priyansh singh\\appdata\\local\\programs\\python\\python312\\lib\\site-packages (from aiohttp<4.0.0,>=3.8.3->langchain) (1.18.3)\n",
            "Requirement already satisfied: marshmallow<4.0.0,>=3.18.0 in c:\\users\\priyansh singh\\appdata\\local\\programs\\python\\python312\\lib\\site-packages (from dataclasses-json<0.7,>=0.5.7->langchain_community) (3.25.1)\n",
            "Requirement already satisfied: typing-inspect<1,>=0.4.0 in c:\\users\\priyansh singh\\appdata\\local\\programs\\python\\python312\\lib\\site-packages (from dataclasses-json<0.7,>=0.5.7->langchain_community) (0.9.0)\n",
            "Requirement already satisfied: anyio<5,>=3.5.0 in c:\\users\\priyansh singh\\appdata\\local\\programs\\python\\python312\\lib\\site-packages (from groq<1,>=0.4.1->langchain_groq) (4.4.0)\n",
            "Requirement already satisfied: distro<2,>=1.7.0 in c:\\users\\priyansh singh\\appdata\\local\\programs\\python\\python312\\lib\\site-packages (from groq<1,>=0.4.1->langchain_groq) (1.9.0)\n",
            "Requirement already satisfied: httpx<1,>=0.23.0 in c:\\users\\priyansh singh\\appdata\\local\\programs\\python\\python312\\lib\\site-packages (from groq<1,>=0.4.1->langchain_groq) (0.27.0)\n",
            "Requirement already satisfied: sniffio in c:\\users\\priyansh singh\\appdata\\local\\programs\\python\\python312\\lib\\site-packages (from groq<1,>=0.4.1->langchain_groq) (1.3.1)\n",
            "Requirement already satisfied: jsonpointer>=1.9 in c:\\users\\priyansh singh\\appdata\\local\\programs\\python\\python312\\lib\\site-packages (from jsonpatch<2.0,>=1.33->langchain_core) (3.0.0)\n",
            "Requirement already satisfied: ormsgpack<2.0.0,>=1.8.0 in c:\\users\\priyansh singh\\appdata\\local\\programs\\python\\python312\\lib\\site-packages (from langgraph-checkpoint<3.0.0,>=2.0.10->langgraph) (1.9.1)\n",
            "Requirement already satisfied: orjson>=3.10.1 in c:\\users\\priyansh singh\\appdata\\local\\programs\\python\\python312\\lib\\site-packages (from langgraph-sdk<0.2.0,>=0.1.42->langgraph) (3.10.14)\n",
            "Requirement already satisfied: requests-toolbelt<2.0.0,>=1.0.0 in c:\\users\\priyansh singh\\appdata\\local\\programs\\python\\python312\\lib\\site-packages (from langsmith<0.3,>=0.1.17->langchain) (1.0.0)\n",
            "Requirement already satisfied: annotated-types>=0.6.0 in c:\\users\\priyansh singh\\appdata\\local\\programs\\python\\python312\\lib\\site-packages (from pydantic<3.0.0,>=2.7.4->langchain) (0.7.0)\n",
            "Requirement already satisfied: pydantic-core==2.27.2 in c:\\users\\priyansh singh\\appdata\\local\\programs\\python\\python312\\lib\\site-packages (from pydantic<3.0.0,>=2.7.4->langchain) (2.27.2)\n",
            "Requirement already satisfied: python-dotenv>=0.21.0 in c:\\users\\priyansh singh\\appdata\\local\\programs\\python\\python312\\lib\\site-packages (from pydantic-settings<3.0.0,>=2.4.0->langchain_community) (1.0.1)\n",
            "Requirement already satisfied: charset-normalizer<4,>=2 in c:\\users\\priyansh singh\\appdata\\local\\programs\\python\\python312\\lib\\site-packages (from requests<3,>=2->langchain) (3.3.2)\n",
            "Requirement already satisfied: idna<4,>=2.5 in c:\\users\\priyansh singh\\appdata\\local\\programs\\python\\python312\\lib\\site-packages (from requests<3,>=2->langchain) (3.7)\n",
            "Requirement already satisfied: urllib3<3,>=1.21.1 in c:\\users\\priyansh singh\\appdata\\local\\programs\\python\\python312\\lib\\site-packages (from requests<3,>=2->langchain) (2.2.2)\n",
            "Requirement already satisfied: certifi>=2017.4.17 in c:\\users\\priyansh singh\\appdata\\local\\programs\\python\\python312\\lib\\site-packages (from requests<3,>=2->langchain) (2024.7.4)\n",
            "Requirement already satisfied: greenlet!=0.4.17 in c:\\users\\priyansh singh\\appdata\\local\\programs\\python\\python312\\lib\\site-packages (from SQLAlchemy<3,>=1.4->langchain) (3.1.1)\n",
            "Requirement already satisfied: httpcore==1.* in c:\\users\\priyansh singh\\appdata\\local\\programs\\python\\python312\\lib\\site-packages (from httpx<1,>=0.23.0->groq<1,>=0.4.1->langchain_groq) (1.0.5)\n",
            "Requirement already satisfied: h11<0.15,>=0.13 in c:\\users\\priyansh singh\\appdata\\local\\programs\\python\\python312\\lib\\site-packages (from httpcore==1.*->httpx<1,>=0.23.0->groq<1,>=0.4.1->langchain_groq) (0.14.0)\n",
            "Requirement already satisfied: mypy-extensions>=0.3.0 in c:\\users\\priyansh singh\\appdata\\local\\programs\\python\\python312\\lib\\site-packages (from typing-inspect<1,>=0.4.0->dataclasses-json<0.7,>=0.5.7->langchain_community) (1.0.0)\n"
          ]
        }
      ],
      "source": [
        "!pip install langchain langchain_core langchain_groq langchain_community langgraph"
      ]
    },
    {
      "cell_type": "code",
      "execution_count": 2,
      "metadata": {
        "id": "iMmKxTzndlV4"
      },
      "outputs": [],
      "source": [
        "from typing import TypedDict, Dict\n",
        "from langgraph.graph import StateGraph, END\n",
        "from langchain_core.prompts import ChatPromptTemplate\n",
        "from langchain_core.runnables.graph import MermaidDrawMethod\n",
        "from IPython.display import display , Image"
      ]
    },
    {
      "cell_type": "markdown",
      "metadata": {
        "id": "MH-Vcaf5eDAz"
      },
      "source": [
        "Define State Structure"
      ]
    },
    {
      "cell_type": "code",
      "execution_count": 3,
      "metadata": {
        "id": "8jyqc0n6eAqN"
      },
      "outputs": [],
      "source": [
        "class State(TypedDict):\n",
        "  query: str\n",
        "  category: str\n",
        "  sentiment: str\n",
        "  response: str"
      ]
    },
    {
      "cell_type": "code",
      "execution_count": 4,
      "metadata": {
        "colab": {
          "base_uri": "https://localhost:8080/",
          "height": 215
        },
        "id": "S5FwVPRefTdl",
        "outputId": "c934a221-fb99-44c0-a4b5-15a48f20e09b"
      },
      "outputs": [
        {
          "data": {
            "text/plain": [
              "\"LangChain is an open-source framework designed to help developers build applications that utilize large language models (LLMs) more efficiently. It was created to simplify the process of integrating LLMs into various projects, making it easier for developers to focus on building their applications rather than worrying about the underlying infrastructure.\\n\\nLangChain provides a set of tools and libraries that enable developers to:\\n\\n1. **Interact with LLMs**: LangChain offers a unified interface to interact with different LLMs, such as LLaMA, PaLM, and others, allowing developers to switch between models easily.\\n2. **Manage memory and caching**: LangChain includes features to manage memory and caching, which helps reduce the computational resources required to run LLMs.\\n3. **Implement indexing and retrieval**: LangChain provides tools for indexing and retrieving data from LLMs, making it easier to store and retrieve information.\\n4. **Build conversational interfaces**: LangChain includes libraries and tools to build conversational interfaces, such as chatbots and voice assistants, that can interact with users in a more human-like way.\\n\\nThe key benefits of using LangChain include:\\n\\n* **Simplified development**: LangChain abstracts away many of the complexities associated with working with LLMs, allowing developers to focus on building their applications.\\n* **Improved performance**: LangChain's memory management and caching features help reduce the computational resources required to run LLMs, making them more efficient.\\n* **Flexibility**: LangChain supports multiple LLMs, allowing developers to choose the best model for their specific use case.\\n\\nOverall, LangChain is a powerful tool for developers looking to build applications that leverage the capabilities of large language models. Its simplicity, flexibility, and performance features make it an attractive choice for a wide range of applications, from chatbots and voice assistants to content generation and more.\""
            ]
          },
          "execution_count": 4,
          "metadata": {},
          "output_type": "execute_result"
        }
      ],
      "source": [
        "from langchain_groq import ChatGroq\n",
        "\n",
        "llm = ChatGroq(\n",
        "    temperature=0,\n",
        "    groq_api_key = \"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\",\n",
        "    model_name = \"llama-3.3-70b-versatile\"\n",
        ")\n",
        "result = llm.invoke(\"What is langchain\")\n",
        "result.content"
      ]
    },
    {
      "cell_type": "markdown",
      "metadata": {
        "id": "ClXctF5AexCh"
      },
      "source": [
        "Define Node Function"
      ]
    },
    {
      "cell_type": "code",
      "execution_count": 5,
      "metadata": {
        "id": "frXMg3kues3d"
      },
      "outputs": [],
      "source": [
        "def categorize(state: State) -> State:\n",
        "  \"Technical, Billing, General\"\n",
        "  prompt = ChatPromptTemplate.from_template(\n",
        "      \"Categorize the following customer query into one of these categories: \"\n",
        "      \"Technical, Billing, General. Query: {query}\"\n",
        "  )\n",
        "  chain = prompt | llm\n",
        "  category = chain.invoke({\"query\": state[\"query\"]}).content\n",
        "  return {\"category\": category}\n",
        "\n",
        "def analyze_sentiment(state: State) -> State:\n",
        "  prompt = ChatPromptTemplate.from_template(\n",
        "      \"Analyze the sentiment of the following customer query\"\n",
        "      \"Response with either 'Position', 'Neutral' , or 'Negative'. Query: {query}\"\n",
        "  )\n",
        "  chain = prompt | llm\n",
        "  sentiment = chain.invoke({\"query\": state[\"query\"]}).content\n",
        "  return {\"sentiment\": sentiment}\n",
        "\n",
        "def handle_technical(state: State)->State:\n",
        "  prompt = ChatPromptTemplate.from_template(\n",
        "      \"Provide a technical support response to the following query : {query}\"\n",
        "  )\n",
        "  chain = prompt | llm\n",
        "  response = chain.invoke({\"query\": state[\"query\"]}).content\n",
        "  return {\"response\": response}\n",
        "\n",
        "def handle_billing(state: State)->State:\n",
        "  prompt = ChatPromptTemplate.from_template(\n",
        "      \"Provide a billing support response to the following query : {query}\"\n",
        "  )\n",
        "  chain = prompt | llm\n",
        "  response = chain.invoke({\"query\": state[\"query\"]}).content\n",
        "  return {\"response\": response}\n",
        "\n",
        "def handle_general(state: State)->State:\n",
        "  prompt = ChatPromptTemplate.from_template(\n",
        "      \"Provide a general support response to the following query : {query}\"\n",
        "  )\n",
        "  chain = prompt | llm\n",
        "  response = chain.invoke({\"query\": state[\"query\"]}).content\n",
        "  return {\"response\": response}\n",
        "\n",
        "def escalate(state: State)->State:\n",
        "  return {\"response\": \"This query has been escalate to a human agent due to its negative sentiment\"}\n",
        "\n",
        "def route_query(state: State)->State:\n",
        "  if state[\"sentiment\"] == \"Negative\":\n",
        "    return \"escalate\"\n",
        "  elif state[\"category\"] == \"Technical\":\n",
        "    return \"handle_technical\"\n",
        "  elif state[\"category\"] == \"Billing\":\n",
        "    return \"handle_billing\"\n",
        "  else:\n",
        "    return \"handle_general\""
      ]
    },
    {
      "cell_type": "markdown",
      "metadata": {
        "id": "8Bl8huyCjXEa"
      },
      "source": [
        "Create and configure the graph"
      ]
    },
    {
      "cell_type": "code",
      "execution_count": 6,
      "metadata": {
        "id": "5NtF-tCjiwMq"
      },
      "outputs": [],
      "source": [
        "workflow = StateGraph(State)\n",
        "\n",
        "workflow.add_node(\"categorize\", categorize)\n",
        "workflow.add_node(\"analyze_sentiment\", analyze_sentiment)\n",
        "workflow.add_node(\"handle_technical\", handle_technical)\n",
        "workflow.add_node(\"handle_billing\", handle_billing)\n",
        "workflow.add_node(\"handle_general\", handle_general)\n",
        "workflow.add_node(\"escalate\", escalate)\n",
        "\n",
        "workflow.add_edge(\"categorize\", \"analyze_sentiment\")\n",
        "workflow.add_conditional_edges(\n",
        "    \"analyze_sentiment\",\n",
        "    route_query,{\n",
        "        \"handle_technical\" : \"handle_technical\",\n",
        "        \"handle_billing\" :  \"handle_billing\",\n",
        "        \"handle_general\" : \"handle_general\",\n",
        "        \"escalate\": \"escalate\"\n",
        "    }\n",
        ")\n",
        "\n",
        "workflow.add_edge(\"handle_technical\", END)\n",
        "workflow.add_edge(\"handle_billing\", END)\n",
        "workflow.add_edge(\"handle_general\", END)\n",
        "workflow.add_edge(\"escalate\", END)\n",
        "\n",
        "workflow.set_entry_point(\"categorize\")\n",
        "\n",
        "app  = workflow.compile()"
      ]
    },
    {
      "cell_type": "markdown",
      "metadata": {
        "id": "EjZb1U_hlm0l"
      },
      "source": [
        "Visulize the graph"
      ]
    },
    {
      "cell_type": "code",
      "execution_count": 7,
      "metadata": {
        "colab": {
          "base_uri": "https://localhost:8080/",
          "height": 449
        },
        "id": "AYjKTO-LlhZC",
        "outputId": "55227c6b-7b50-4f07-ca56-effa4eb5fe26"
      },
      "outputs": [
        {
          "data": {
            "image/png": "[encoded data removed]",
            "text/plain": [
              "<IPython.core.display.Image object>"
            ]
          },
          "metadata": {},
          "output_type": "display_data"
        }
      ],
      "source": [
        "display(\n",
        "    Image(\n",
        "        app.get_graph().draw_mermaid_png(\n",
        "            draw_method=MermaidDrawMethod.API\n",
        "        )\n",
        "    )\n",
        ")"
      ]
    },
    {
      "cell_type": "markdown",
      "metadata": {
        "id": "ChqZbatpUW6y"
      },
      "source": [
        "Run customer support function"
      ]
    },
    {
      "cell_type": "code",
      "execution_count": 8,
      "metadata": {
        "id": "0GmK0-wyUUIV"
      },
      "outputs": [],
      "source": [
        "def run_customer_support(query: str)->Dict[str, str]:\n",
        "  results = app.invoke({\"query\": query})\n",
        "  return {\n",
        "      \"category\":results['category'],\n",
        "      \"sentiment\":results['sentiment'],\n",
        "      \"response\": results['response']\n",
        "  }"
      ]
    },
    {
      "cell_type": "code",
      "execution_count": 9,
      "metadata": {
        "colab": {
          "base_uri": "https://localhost:8080/"
        },
        "id": "7kR76ZNLUx76",
        "outputId": "c89bb7a7-9eaa-47a4-a382-685d223cb0a1"
      },
      "outputs": [
        {
          "name": "stdout",
          "output_type": "stream",
          "text": [
            "Query: My internet connection is gone it's not working, Can you help me?\n",
            "Category: The customer query can be categorized as: Technical. \n",
            "\n",
            "This is because the query is related to a technical issue with the customer's internet connection, and they are seeking assistance to resolve the problem.\n",
            "Sentiment: Neutral. \n",
            "\n",
            "The customer is reporting an issue with their internet connection, which indicates a problem, but they are also asking for help in a polite manner, without expressing any frustration or anger. The tone is informative and seeking assistance, rather than being negative or positive.\n",
            "Response: I'm so sorry to hear that your internet connection is not working. I'd be happy to help you troubleshoot the issue. \n",
            "\n",
            "To get started, can you please try a few basic steps to see if we can resolve the problem quickly? \n",
            "\n",
            "1. **Restart your router**: Sometimes, a simple reboot can fix the issue. Unplug the power cord from your router, wait for 30 seconds, and then plug it back in.\n",
            "2. **Check your cables**: Ensure that all cables are securely connected to your router, modem, and device (computer, laptop, etc.).\n",
            "3. **Check your internet service provider's status**: Visit your ISP's website or social media to see if there are any outages or maintenance in your area.\n",
            "\n",
            "If none of these steps work, please provide me with more details about your issue, such as:\n",
            "\n",
            "* What type of device are you using to connect to the internet?\n",
            "* What error messages are you seeing (if any)?\n",
            "* Have you made any recent changes to your network or device?\n",
            "\n",
            "I'll do my best to help you identify the problem and find a solution to get your internet connection up and running again.\n",
            "\n",
            "\n"
          ]
        }
      ],
      "source": [
        "query = \"My internet connection is gone it's not working, Can you help me?\"\n",
        "result = run_customer_support(query)\n",
        "print(f\"Query: {query}\")\n",
        "print(f\"Category: {result['category']}\")\n",
        "print(f\"Sentiment: {result['sentiment']}\")\n",
        "print(f\"Response: {result['response']}\")\n",
        "print(\"\\n\")"
      ]
    },
    {
      "cell_type": "code",
      "execution_count": 10,
      "metadata": {
        "colab": {
          "base_uri": "https://localhost:8080/"
        },
        "id": "aOs7epRuU5Yg",
        "outputId": "77a6dbd0-1337-4ebd-e6ea-90a3c21a456a"
      },
      "outputs": [
        {
          "name": "stdout",
          "output_type": "stream",
          "text": [
            "Query: where can i find my receipt\n",
            "Category: The customer query \"where can I find my receipt\" would be categorized as \"Billing\". This is because the query is related to a financial transaction and the customer is looking for documentation of their payment.\n",
            "Sentiment: Neutral. The customer is simply asking for information about the location of their receipt, without expressing any emotion or sentiment, either positive or negative.\n",
            "Response: I'd be happy to help you locate your receipt. There are a few possible places you can check, depending on how you made your purchase. Here are some suggestions:\n",
            "\n",
            "1. **Email**: If you made an online purchase, check your email inbox for a confirmation email that may include your receipt.\n",
            "2. **Order history**: If you have an account with the retailer, log in and check your order history. Your receipt may be available to view or print from there.\n",
            "3. **Store or restaurant**: If you made a purchase in-store or at a restaurant, you can try contacting them directly to see if they have a copy of your receipt on file.\n",
            "4. **Digital wallet**: If you used a digital wallet like Apple Pay, Google Pay, or PayPal, you may be able to find your receipt in the transaction history.\n",
            "5. **Paper copy**: If you received a paper copy of your receipt, check your wallet, purse, or the location where you made the purchase.\n",
            "\n",
            "If you're still unable to find your receipt, you can try contacting the retailer's customer support team for assistance. They may be able to provide you with a replacement receipt or help you locate the original one.\n",
            "\n",
            "I hope this helps! If you have any more questions or need further assistance, feel free to ask.\n",
            "\n",
            "\n"
          ]
        }
      ],
      "source": [
        "query = \"where can i find my receipt\"\n",
        "result = run_customer_support(query)\n",
        "print(f\"Query: {query}\")\n",
        "print(f\"Category: {result['category']}\")\n",
        "print(f\"Sentiment: {result['sentiment']}\")\n",
        "print(f\"Response: {result['response']}\")\n",
        "print(\"\\n\")"
      ]
    },
    {
      "cell_type": "code",
      "execution_count": 11,
      "metadata": {
        "colab": {
          "base_uri": "https://localhost:8080/"
        },
        "id": "Jxx5r_hHXvv6",
        "outputId": "c4ac8ee0-d8c7-4103-f7b4-ad70166f48c7"
      },
      "outputs": [
        {
          "name": "stdout",
          "output_type": "stream",
          "text": [
            "^C\n"
          ]
        }
      ],
      "source": [
        "!pip install gradio"
      ]
    },
    {
      "cell_type": "code",
      "execution_count": null,
      "metadata": {
        "colab": {
          "base_uri": "https://localhost:8080/",
          "height": 1000,
          "referenced_widgets": [
            "638530d6563e463aae75cb12b632edda",
            "b6bc33961f4941f6ac293601c5e8be22",
            "8aca5e3393a4437c95cc0954b9d7cef6",
            "63688627e5f548118343bb4e6d368407",
            "909cdc3bb9c8470e95874d1f1ff4c82f",
            "cfe83a28089947c995984243a565704f",
            "bdcef53fc3234b76a0f8449c75e76da0",
            "8a1ff10e12f24ebe8587442440bde82e",
            "19ecdb6238374234a359b0becfdc62a9",
            "6a55de49a1aa41e2bf3289e3c01fd378",
            "6fbe611640814b3d82727e1344a4eaa1"
          ]
        },
        "id": "wpPXxo6NYBpf",
        "outputId": "6d72a8d2-78ee-4992-ad7c-e38bcc7cbfce"
      },
      "outputs": [],
      "source": [
        "from typing import TypedDict, Dict\n",
        "from langgraph.graph import StateGraph, END\n",
        "from langchain_core.prompts import ChatPromptTemplate\n",
        "from langchain_core.runnables.graph import MermaidDrawMethod\n",
        "from IPython.display import display, Image\n",
        "\n",
        "class State(TypedDict):\n",
        "    query: str\n",
        "    category: str\n",
        "    sentiment: str\n",
        "    response: str\n",
        "\n",
        "from langchain_groq import ChatGroq\n",
        "\n",
        "llm = ChatGroq(\n",
        "    temperature=0,\n",
        "    groq_api_key=\"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\",\n",
        "    model_name=\"llama-3.3-70b-versatile\"\n",
        ")\n",
        "\n",
        "\n",
        "def categorize(state: State) -> State:\n",
        "    \"\"\"Categorize the query.\"\"\"\n",
        "    prompt = ChatPromptTemplate.from_template(\n",
        "        \"Categorize the following customer query into one of these categories: \"\n",
        "        \"Technical, Billing, General. Query: {query}\"\n",
        "    )\n",
        "    chain = prompt | llm\n",
        "    category = chain.invoke({\"query\": state[\"query\"]}).content\n",
        "    return {\"category\": category}\n",
        "\n",
        "def analyze_sentiment(state: State) -> State:\n",
        "    \"\"\"Analyze sentiment of the query.\"\"\"\n",
        "    prompt = ChatPromptTemplate.from_template(\n",
        "        \"Analyze the sentiment of the following customer query \"\n",
        "        \"Response with either 'Positive', 'Neutral', or 'Negative'. Query: {query}\"\n",
        "    )\n",
        "    chain = prompt | llm\n",
        "    sentiment = chain.invoke({\"query\": state[\"query\"]}).content\n",
        "    return {\"sentiment\": sentiment}\n",
        "\n",
        "def handle_technical(state: State) -> State:\n",
        "    \"\"\"Handle technical queries.\"\"\"\n",
        "    prompt = ChatPromptTemplate.from_template(\n",
        "        \"Provide a technical support response to the following query: {query}\"\n",
        "    )\n",
        "    chain = prompt | llm\n",
        "    response = chain.invoke({\"query\": state[\"query\"]}).content\n",
        "    return {\"response\": response}\n",
        "\n",
        "def handle_billing(state: State) -> State:\n",
        "    \"\"\"Handle billing queries.\"\"\"\n",
        "    prompt = ChatPromptTemplate.from_template(\n",
        "        \"Provide a billing support response to the following query: {query}\"\n",
        "    )\n",
        "    chain = prompt | llm\n",
        "    response = chain.invoke({\"query\": state[\"query\"]}).content\n",
        "    return {\"response\": response}\n",
        "\n",
        "def handle_general(state: State) -> State:\n",
        "    \"\"\"Handle general queries.\"\"\"\n",
        "    prompt = ChatPromptTemplate.from_template(\n",
        "        \"Provide a general support response to the following query: {query}\"\n",
        "    )\n",
        "    chain = prompt | llm\n",
        "    response = chain.invoke({\"query\": state[\"query\"]}).content\n",
        "    return {\"response\": response}\n",
        "\n",
        "def escalate(state: State) -> State:\n",
        "    \"\"\"Escalate negative sentiment queries.\"\"\"\n",
        "    return {\"response\": \"This query has been escalated to a human agent due to its negative sentiment.\"}\n",
        "\n",
        "def route_query(state: State) -> State:\n",
        "    \"\"\"Route query based on category and sentiment.\"\"\"\n",
        "    if state[\"sentiment\"] == \"Negative\":\n",
        "        return \"escalate\"\n",
        "    elif state[\"category\"] == \"Technical\":\n",
        "        return \"handle_technical\"\n",
        "    elif state[\"category\"] == \"Billing\":\n",
        "        return \"handle_billing\"\n",
        "    else:\n",
        "        return \"handle_general\"\n",
        "\n",
        "workflow = StateGraph(State)\n",
        "\n",
        "workflow.add_node(\"categorize\", categorize)\n",
        "workflow.add_node(\"analyze_sentiment\", analyze_sentiment)\n",
        "workflow.add_node(\"handle_technical\", handle_technical)\n",
        "workflow.add_node(\"handle_billing\", handle_billing)\n",
        "workflow.add_node(\"handle_general\", handle_general)\n",
        "workflow.add_node(\"escalate\", escalate)\n",
        "\n",
        "workflow.add_edge(\"categorize\", \"analyze_sentiment\")\n",
        "workflow.add_conditional_edges(\n",
        "    \"analyze_sentiment\",\n",
        "    route_query, {\n",
        "        \"handle_technical\": \"handle_technical\",\n",
        "        \"handle_billing\": \"handle_billing\",\n",
        "        \"handle_general\": \"handle_general\",\n",
        "        \"escalate\": \"escalate\"\n",
        "    }\n",
        ")\n",
        "\n",
        "workflow.add_edge(\"handle_technical\", END)\n",
        "workflow.add_edge(\"handle_billing\", END)\n",
        "workflow.add_edge(\"handle_general\", END)\n",
        "workflow.add_edge(\"escalate\", END)\n",
        "\n",
        "workflow.set_entry_point(\"categorize\")\n",
        "\n",
        "app = workflow.compile()\n",
        "\n",
        "display(\n",
        "    Image(\n",
        "        app.get_graph().draw_mermaid_png(\n",
        "            draw_method=MermaidDrawMethod.API\n",
        "        )\n",
        "    )\n",
        ")\n",
        "\n",
        "import gradio as gr\n",
        "\n",
        "# Define the function that integrates the workflow.\n",
        "def run_customer_support(query: str) -> Dict[str, str]:\n",
        "    results = app.invoke({\"query\": query})\n",
        "    return {\n",
        "        \"Category\": results['category'],\n",
        "        \"Sentiment\": results['sentiment'],\n",
        "        \"Response\": results['response']\n",
        "    }\n",
        "\n",
        "# Create the Gradio interface\n",
        "def gradio_interface(query: str):\n",
        "    result = run_customer_support(query)\n",
        "    return (\n",
        "        f\"**Category:** {result['Category']}\\n\\n\"\n",
        "        f\"**Sentiment:** {result['Sentiment']}\\n\\n\"\n",
        "        f\"**Response:** {result['Response']}\"\n",
        "    )\n",
        "\n",
        "# Build the Gradio app\n",
        "gui = gr.Interface(\n",
        "    fn=gradio_interface,\n",
        "    theme='Yntec/HaleyCH_Theme_Orange_Green',\n",
        "    inputs=gr.Textbox(lines=2, placeholder=\"Enter your query here...\"),\n",
        "    outputs=gr.Markdown(),\n",
        "    title=\"Customer Support Assistant\",\n",
        "    description=\"Provide a query and receive a categorized response. The system analyzes sentiment and routes to the appropriate support channel.\",\n",
        ")\n",
        "\n",
        "# Launch the app\n",
        "if __name__ == \"__main__\":\n",
        "    gui.launch()\n"
      ]
    },
    {
      "cell_type": "code",
      "execution_count": null,
      "metadata": {
        "id": "28J_grPpYtzP"
      },
      "outputs": [],
      "source": []
    }
  ],
  "metadata": {
    "colab": {
      "provenance": []
    },
    "kernelspec": {
      "display_name": "Python 3",
      "name": "python3"
    },
    "language_info": {
      "codemirror_mode": {
        "name": "ipython",
        "version": 3
      },
      "file_extension": ".py",
      "mimetype": "text/x-python",
      "name": "python",
      "nbconvert_exporter": "python",
      "pygments_lexer": "ipython3",
      "version": "3.12.5"
    },
    "widgets": {
      "application/vnd.jupyter.widget-state+json": {
        "19ecdb6238374234a359b0becfdc62a9": {
          "model_module": "@jupyter-widgets/controls",
          "model_module_version": "1.5.0",
          "model_name": "ProgressStyleModel",
          "state": {
            "_model_module": "@jupyter-widgets/controls",
            "_model_module_version": "1.5.0",
            "_model_name": "ProgressStyleModel",
            "_view_count": null,
            "_view_module": "@jupyter-widgets/base",
            "_view_module_version": "1.2.0",
            "_view_name": "StyleView",
            "bar_color": null,
            "description_width": ""
          }
        },
        "63688627e5f548118343bb4e6d368407": {
          "model_module": "@jupyter-widgets/controls",
          "model_module_version": "1.5.0",
          "model_name": "HTMLModel",
          "state": {
            "_dom_classes": [],
            "_model_module": "@jupyter-widgets/controls",
            "_model_module_version": "1.5.0",
            "_model_name": "HTMLModel",
            "_view_count": null,
            "_view_module": "@jupyter-widgets/controls",
            "_view_module_version": "1.5.0",
            "_view_name": "HTMLView",
            "description": "",
            "description_tooltip": null,
            "layout": "IPY_MODEL_6a55de49a1aa41e2bf3289e3c01fd378",
            "placeholder": "​",
            "style": "IPY_MODEL_6fbe611640814b3d82727e1344a4eaa1",
            "value": " 12.6k/12.6k [00:00&lt;00:00, 130kB/s]"
          }
        },
        "638530d6563e463aae75cb12b632edda": {
          "model_module": "@jupyter-widgets/controls",
          "model_module_version": "1.5.0",
          "model_name": "HBoxModel",
          "state": {
            "_dom_classes": [],
            "_model_module": "@jupyter-widgets/controls",
            "_model_module_version": "1.5.0",
            "_model_name": "HBoxModel",
            "_view_count": null,
            "_view_module": "@jupyter-widgets/controls",
            "_view_module_version": "1.5.0",
            "_view_name": "HBoxView",
            "box_style": "",
            "children": [
              "IPY_MODEL_b6bc33961f4941f6ac293601c5e8be22",
              "IPY_MODEL_8aca5e3393a4437c95cc0954b9d7cef6",
              "IPY_MODEL_63688627e5f548118343bb4e6d368407"
            ],
            "layout": "IPY_MODEL_909cdc3bb9c8470e95874d1f1ff4c82f"
          }
        },
        "6a55de49a1aa41e2bf3289e3c01fd378": {
          "model_module": "@jupyter-widgets/base",
          "model_module_version": "1.2.0",
          "model_name": "LayoutModel",
          "state": {
            "_model_module": "@jupyter-widgets/base",
            "_model_module_version": "1.2.0",
            "_model_name": "LayoutModel",
            "_view_count": null,
            "_view_module": "@jupyter-widgets/base",
            "_view_module_version": "1.2.0",
            "_view_name": "LayoutView",
            "align_content": null,
            "align_items": null,
            "align_self": null,
            "border": null,
            "bottom": null,
            "display": null,
            "flex": null,
            "flex_flow": null,
            "grid_area": null,
            "grid_auto_columns": null,
            "grid_auto_flow": null,
            "grid_auto_rows": null,
            "grid_column": null,
            "grid_gap": null,
            "grid_row": null,
            "grid_template_areas": null,
            "grid_template_columns": null,
            "grid_template_rows": null,
            "height": null,
            "justify_content": null,
            "justify_items": null,
            "left": null,
            "margin": null,
            "max_height": null,
            "max_width": null,
            "min_height": null,
            "min_width": null,
            "object_fit": null,
            "object_position": null,
            "order": null,
            "overflow": null,
            "overflow_x": null,
            "overflow_y": null,
            "padding": null,
            "right": null,
            "top": null,
            "visibility": null,
            "width": null
          }
        },
        "6fbe611640814b3d82727e1344a4eaa1": {
          "model_module": "@jupyter-widgets/controls",
          "model_module_version": "1.5.0",
          "model_name": "DescriptionStyleModel",
          "state": {
            "_model_module": "@jupyter-widgets/controls",
            "_model_module_version": "1.5.0",
            "_model_name": "DescriptionStyleModel",
            "_view_count": null,
            "_view_module": "@jupyter-widgets/base",
            "_view_module_version": "1.2.0",
            "_view_name": "StyleView",
            "description_width": ""
          }
        },
        "8a1ff10e12f24ebe8587442440bde82e": {
          "model_module": "@jupyter-widgets/base",
          "model_module_version": "1.2.0",
          "model_name": "LayoutModel",
          "state": {
            "_model_module": "@jupyter-widgets/base",
            "_model_module_version": "1.2.0",
            "_model_name": "LayoutModel",
            "_view_count": null,
            "_view_module": "@jupyter-widgets/base",
            "_view_module_version": "1.2.0",
            "_view_name": "LayoutView",
            "align_content": null,
            "align_items": null,
            "align_self": null,
            "border": null,
            "bottom": null,
            "display": null,
            "flex": null,
            "flex_flow": null,
            "grid_area": null,
            "grid_auto_columns": null,
            "grid_auto_flow": null,
            "grid_auto_rows": null,
            "grid_column": null,
            "grid_gap": null,
            "grid_row": null,
            "grid_template_areas": null,
            "grid_template_columns": null,
            "grid_template_rows": null,
            "height": null,
            "justify_content": null,
            "justify_items": null,
            "left": null,
            "margin": null,
            "max_height": null,
            "max_width": null,
            "min_height": null,
            "min_width": null,
            "object_fit": null,
            "object_position": null,
            "order": null,
            "overflow": null,
            "overflow_x": null,
            "overflow_y": null,
            "padding": null,
            "right": null,
            "top": null,
            "visibility": null,
            "width": null
          }
        },
        "8aca5e3393a4437c95cc0954b9d7cef6": {
          "model_module": "@jupyter-widgets/controls",
          "model_module_version": "1.5.0",
          "model_name": "FloatProgressModel",
          "state": {
            "_dom_classes": [],
            "_model_module": "@jupyter-widgets/controls",
            "_model_module_version": "1.5.0",
            "_model_name": "FloatProgressModel",
            "_view_count": null,
            "_view_module": "@jupyter-widgets/controls",
            "_view_module_version": "1.5.0",
            "_view_name": "ProgressView",
            "bar_style": "success",
            "description": "",
            "description_tooltip": null,
            "layout": "IPY_MODEL_8a1ff10e12f24ebe8587442440bde82e",
            "max": 12551,
            "min": 0,
            "orientation": "horizontal",
            "style": "IPY_MODEL_19ecdb6238374234a359b0becfdc62a9",
            "value": 12551
          }
        },
        "909cdc3bb9c8470e95874d1f1ff4c82f": {
          "model_module": "@jupyter-widgets/base",
          "model_module_version": "1.2.0",
          "model_name": "LayoutModel",
          "state": {
            "_model_module": "@jupyter-widgets/base",
            "_model_module_version": "1.2.0",
            "_model_name": "LayoutModel",
            "_view_count": null,
            "_view_module": "@jupyter-widgets/base",
            "_view_module_version": "1.2.0",
            "_view_name": "LayoutView",
            "align_content": null,
            "align_items": null,
            "align_self": null,
            "border": null,
            "bottom": null,
            "display": null,
            "flex": null,
            "flex_flow": null,
            "grid_area": null,
            "grid_auto_columns": null,
            "grid_auto_flow": null,
            "grid_auto_rows": null,
            "grid_column": null,
            "grid_gap": null,
            "grid_row": null,
            "grid_template_areas": null,
            "grid_template_columns": null,
            "grid_template_rows": null,
            "height": null,
            "justify_content": null,
            "justify_items": null,
            "left": null,
            "margin": null,
            "max_height": null,
            "max_width": null,
            "min_height": null,
            "min_width": null,
            "object_fit": null,
            "object_position": null,
            "order": null,
            "overflow": null,
            "overflow_x": null,
            "overflow_y": null,
            "padding": null,
            "right": null,
            "top": null,
            "visibility": null,
            "width": null
          }
        },
        "b6bc33961f4941f6ac293601c5e8be22": {
          "model_module": "@jupyter-widgets/controls",
          "model_module_version": "1.5.0",
          "model_name": "HTMLModel",
          "state": {
            "_dom_classes": [],
            "_model_module": "@jupyter-widgets/controls",
            "_model_module_version": "1.5.0",
            "_model_name": "HTMLModel",
            "_view_count": null,
            "_view_module": "@jupyter-widgets/controls",
            "_view_module_version": "1.5.0",
            "_view_name": "HTMLView",
            "description": "",
            "description_tooltip": null,
            "layout": "IPY_MODEL_cfe83a28089947c995984243a565704f",
            "placeholder": "​",
            "style": "IPY_MODEL_bdcef53fc3234b76a0f8449c75e76da0",
            "value": "themes/theme_schema@0.0.1.json: 100%"
          }
        },
        "bdcef53fc3234b76a0f8449c75e76da0": {
          "model_module": "@jupyter-widgets/controls",
          "model_module_version": "1.5.0",
          "model_name": "DescriptionStyleModel",
          "state": {
            "_model_module": "@jupyter-widgets/controls",
            "_model_module_version": "1.5.0",
            "_model_name": "DescriptionStyleModel",
            "_view_count": null,
            "_view_module": "@jupyter-widgets/base",
            "_view_module_version": "1.2.0",
            "_view_name": "StyleView",
            "description_width": ""
          }
        },
        "cfe83a28089947c995984243a565704f": {
          "model_module": "@jupyter-widgets/base",
          "model_module_version": "1.2.0",
          "model_name": "LayoutModel",
          "state": {
            "_model_module": "@jupyter-widgets/base",
            "_model_module_version": "1.2.0",
            "_model_name": "LayoutModel",
            "_view_count": null,
            "_view_module": "@jupyter-widgets/base",
            "_view_module_version": "1.2.0",
            "_view_name": "LayoutView",
            "align_content": null,
            "align_items": null,
            "align_self": null,
            "border": null,
            "bottom": null,
            "display": null,
            "flex": null,
            "flex_flow": null,
            "grid_area": null,
            "grid_auto_columns": null,
            "grid_auto_flow": null,
            "grid_auto_rows": null,
            "grid_column": null,
            "grid_gap": null,
            "grid_row": null,
            "grid_template_areas": null,
            "grid_template_columns": null,
            "grid_template_rows": null,
            "height": null,
            "justify_content": null,
            "justify_items": null,
            "left": null,
            "margin": null,
            "max_height": null,
            "max_width": null,
            "min_height": null,
            "min_width": null,
            "object_fit": null,
            "object_position": null,
            "order": null,
            "overflow": null,
            "overflow_x": null,
            "overflow_y": null,
            "padding": null,
            "right": null,
            "top": null,
            "visibility": null,
            "width": null
          }
        }
      }
    }
  },
  "nbformat": 4,
  "nbformat_minor": 0
}
